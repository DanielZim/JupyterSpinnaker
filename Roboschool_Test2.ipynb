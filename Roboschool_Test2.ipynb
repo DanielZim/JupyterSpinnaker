{
 "cells": [
  {
   "cell_type": "markdown",
   "metadata": {},
   "source": [
    "## Some hints can be found here: \n",
    "\n",
    "https://kyso.io/eoin/openai-gym-jupyter\n",
    "\n",
    "https://stackoverflow.com/questions/40195740/how-to-run-openai-gym-render-over-a-server\n",
    "\n",
    "https://github.com/openai/gym/issues/152\n",
    "\n",
    "https://github.com/openai/gym/issues/56\n",
    "\n",
    "https://github.com/openai/gym/issues/247\n",
    "\n",
    "https://medium.com/coinmonks/preparing-a-headless-environment-for-openais-gym-with-docker-and-tensorflow-1bd0e0d31663"
   ]
  },
  {
   "cell_type": "code",
   "execution_count": 2,
   "metadata": {},
   "outputs": [
    {
     "name": "stdout",
     "output_type": "stream",
     "text": [
      "finished\n"
     ]
    }
   ],
   "source": [
    "import roboschool\n",
    "import gym\n",
    "from gym import wrappers\n",
    "\n",
    "# Virtual display\n",
    "#from pyvirtualdisplay import Display\n",
    "#virtual_display = Display(visible=0, size=(1400, 900))\n",
    "#virtual_display.start()\n",
    "\n",
    "env = gym.make('RoboschoolAnt-v1')\n",
    "#env = wrappers.Monitor(env, \"./gym-results\", force=True)\n",
    "env.reset()\n",
    "\n",
    "for i in range(1000):\n",
    "    #img = env.render(mode='rgb_array')\n",
    "    env.step(env.action_space.sample()) # take a random action\n",
    "\n",
    "env.close()\n",
    "print(\"finished\")"
   ]
  },
  {
   "cell_type": "code",
   "execution_count": 3,
   "metadata": {},
   "outputs": [
    {
     "name": "stdout",
     "output_type": "stream",
     "text": [
      "finished\n"
     ]
    }
   ],
   "source": [
    "import gym\n",
    "import roboschool\n",
    "\n",
    "env = gym.make('RoboschoolHumanoid-v1')\n",
    "env.reset()\n",
    "\n",
    "for i in range(1000):\n",
    "    #img = env.render(mode='rgb_array')\n",
    "    env.step(env.action_space.sample()) # take a random action\n",
    "\n",
    "env.close()\n",
    "print(\"finished\")"
   ]
  },
  {
   "cell_type": "code",
   "execution_count": null,
   "metadata": {},
   "outputs": [],
   "source": []
  }
 ],
 "metadata": {
  "kernelspec": {
   "display_name": "sPyNNakerGit",
   "language": "python",
   "name": "spynnakergit"
  },
  "language_info": {
   "codemirror_mode": {
    "name": "ipython",
    "version": 3
   },
   "file_extension": ".py",
   "mimetype": "text/x-python",
   "name": "python",
   "nbconvert_exporter": "python",
   "pygments_lexer": "ipython3",
   "version": "3.6.0"
  }
 },
 "nbformat": 4,
 "nbformat_minor": 2
}
