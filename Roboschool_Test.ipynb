{
 "cells": [
  {
   "cell_type": "markdown",
   "metadata": {},
   "source": [
    "## Some hints can be found here: \n",
    "\n",
    "https://kyso.io/eoin/openai-gym-jupyter"
   ]
  },
  {
   "cell_type": "code",
   "execution_count": 3,
   "metadata": {},
   "outputs": [
    {
     "name": "stdout",
     "output_type": "stream",
     "text": [
      "finished\n"
     ]
    }
   ],
   "source": [
    "import roboschool\n",
    "import gym\n",
    "\n",
    "env = gym.make('RoboschoolAnt-v1')\n",
    "env.reset()\n",
    "\n",
    "for i in range(1000):\n",
    "    result = env.step(env.action_space.sample())\n",
    "    #env.render()\n",
    "    \n",
    "env.close()\n",
    "print(\"finished\")"
   ]
  },
  {
   "cell_type": "code",
   "execution_count": 2,
   "metadata": {},
   "outputs": [
    {
     "name": "stdout",
     "output_type": "stream",
     "text": [
      "finished\n"
     ]
    }
   ],
   "source": [
    "import gym\n",
    "import roboschool\n",
    "\n",
    "env = gym.make('RoboschoolHumanoid-v1')\n",
    "env.reset()\n",
    "\n",
    "for i in range(1000):\n",
    "    #img = env.render(mode='rgb_array')\n",
    "    env.step(env.action_space.sample()) # take a random action\n",
    "\n",
    "env.close()\n",
    "print(\"finished\")"
   ]
  },
  {
   "cell_type": "code",
   "execution_count": null,
   "metadata": {},
   "outputs": [],
   "source": []
  }
 ],
 "metadata": {
  "kernelspec": {
   "display_name": "sPyNNakerGit",
   "language": "python",
   "name": "spynnakergit"
  },
  "language_info": {
   "codemirror_mode": {
    "name": "ipython",
    "version": 3
   },
   "file_extension": ".py",
   "mimetype": "text/x-python",
   "name": "python",
   "nbconvert_exporter": "python",
   "pygments_lexer": "ipython3",
   "version": "3.6.0"
  }
 },
 "nbformat": 4,
 "nbformat_minor": 2
}
