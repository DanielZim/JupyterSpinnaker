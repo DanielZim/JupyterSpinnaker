{
 "cells": [
  {
   "cell_type": "code",
   "execution_count": 4,
   "metadata": {},
   "outputs": [
    {
     "name": "stdout",
     "output_type": "stream",
     "text": [
      "Stored 'var_1' (list)\n",
      "Stored 'var_2' (dict)\n",
      "Stored 'var_3' (tuple)\n",
      "Stored 'var_4' (set)\n",
      "Stored 'var_5' (bool)\n"
     ]
    }
   ],
   "source": [
    "var_1 = [1,2,3,4,5,7] #list\n",
    "var_2 = {'a':1,'b':2,'c':3} #dict\n",
    "var_3 = (6,7,8,9) #tuple\n",
    "var_4 = {'d','e','f','l'} #set\n",
    "var_5 = False\n",
    "%store var_1\n",
    "%store var_2\n",
    "%store var_3\n",
    "%store var_4\n",
    "%store var_5"
   ]
  },
  {
   "cell_type": "code",
   "execution_count": 5,
   "metadata": {},
   "outputs": [
    {
     "name": "stdout",
     "output_type": "stream",
     "text": [
      "Stored 'var_5' (bool)\n"
     ]
    }
   ],
   "source": [
    "var_5 = True\n",
    "%store var_5"
   ]
  },
  {
   "cell_type": "code",
   "execution_count": null,
   "metadata": {},
   "outputs": [],
   "source": []
  }
 ],
 "metadata": {
  "kernelspec": {
   "display_name": "sPyNNakerGit",
   "language": "python",
   "name": "spynnakergit"
  },
  "language_info": {
   "codemirror_mode": {
    "name": "ipython",
    "version": 3
   },
   "file_extension": ".py",
   "mimetype": "text/x-python",
   "name": "python",
   "nbconvert_exporter": "python",
   "pygments_lexer": "ipython3",
   "version": "3.6.0"
  }
 },
 "nbformat": 4,
 "nbformat_minor": 2
}
